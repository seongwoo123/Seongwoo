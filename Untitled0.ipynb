{
  "nbformat": 4,
  "nbformat_minor": 0,
  "metadata": {
    "colab": {
      "name": "Untitled0.ipynb",
      "provenance": [],
      "collapsed_sections": [],
      "mount_file_id": "191VSFbV9JOgL48LwaGzOXgDPxmGockQH",
      "authorship_tag": "ABX9TyP6H7LFusoqvIBfTGV2O9f/",
      "include_colab_link": true
    },
    "kernelspec": {
      "name": "python3",
      "display_name": "Python 3"
    },
    "language_info": {
      "name": "python"
    }
  },
  "cells": [
    {
      "cell_type": "markdown",
      "metadata": {
        "id": "view-in-github",
        "colab_type": "text"
      },
      "source": [
        "<a href=\"https://colab.research.google.com/github/seongwoo123/Seongwoo/blob/main/Untitled0.ipynb\" target=\"_parent\"><img src=\"https://colab.research.google.com/assets/colab-badge.svg\" alt=\"Open In Colab\"/></a>"
      ]
    },
    {
      "cell_type": "code",
      "metadata": {
        "colab": {
          "base_uri": "https://localhost:8080/"
        },
        "id": "G3aoP_u5HN3_",
        "outputId": "74a13a7c-6ac9-4ee0-ec97-b38bbced04b3"
      },
      "source": [
        "init_money=24\n",
        "interest=0.06\n",
        "years=382\n",
        "init_money*(1+interest)**years"
      ],
      "execution_count": null,
      "outputs": [
        {
          "output_type": "execute_result",
          "data": {
            "text/plain": [
              "111442737812.28842"
            ]
          },
          "metadata": {},
          "execution_count": 3
        }
      ]
    },
    {
      "cell_type": "code",
      "metadata": {
        "colab": {
          "base_uri": "https://localhost:8080/"
        },
        "id": "a35nr8qOM8w-",
        "outputId": "fcb1fd61-74dc-4665-a580-cc75f147cfc1"
      },
      "source": [
        "age =input(\"나이를 입력하세요: \")\n",
        "print(age)\n",
        "print (type(age) )\n",
        "print (type (int(age)) )\n"
      ],
      "execution_count": null,
      "outputs": [
        {
          "output_type": "stream",
          "name": "stdout",
          "text": [
            "나이를 입력하세요: 20\n",
            "20\n",
            "<class 'str'>\n",
            "<class 'int'>\n"
          ]
        }
      ]
    },
    {
      "cell_type": "code",
      "metadata": {
        "colab": {
          "base_uri": "https://localhost:8080/"
        },
        "id": "nUm6KXMUNj_x",
        "outputId": "8cc8a59f-1d5f-4554-8e93-49d1728cf607"
      },
      "source": [
        "x = int(input(\"첫번째 정수: \") )\n",
        "y = int(input(\"두번쨰 정수: \") )\n",
        "sum = x+y\n",
        "print(\"합: \", sum)"
      ],
      "execution_count": null,
      "outputs": [
        {
          "output_type": "stream",
          "name": "stdout",
          "text": [
            "첫번째 정수: 10\n",
            "두번쨰 정수: 20\n",
            "합:  30\n"
          ]
        }
      ]
    },
    {
      "cell_type": "code",
      "metadata": {
        "colab": {
          "base_uri": "https://localhost:8080/"
        },
        "id": "K4cTNSdvOfoL",
        "outputId": "290a3ddd-e3bf-4c9a-8ca8-11c4f47bdd84"
      },
      "source": [
        "r = 5\n",
        "volume = 4/3 * 3.141592 * r**3\n",
        "print (volume)"
      ],
      "execution_count": null,
      "outputs": [
        {
          "output_type": "stream",
          "name": "stdout",
          "text": [
            "523.5986666666666\n"
          ]
        }
      ]
    },
    {
      "cell_type": "code",
      "metadata": {
        "id": "FVki9BugRlRK"
      },
      "source": [
        "A = input(\"물건값을 입력하세요: \")\n",
        "a = int(input(\"1000원 지폐개수 = \") )\n",
        "b = int(input(\"500원 동전개수 = \") )\n",
        "c = int(input(\"100원 동전개수 = \") )\n",
        "d = int(input(\"10원 동전개수 = \") )\n",
        "e = int(input(\"1원 동전개수 = \") )\n",
        "remain = A - (a+b+c+d+e)\n",
        "print (\"나머지 잔돈은 = \" + remain)\n",
        "\n"
      ],
      "execution_count": null,
      "outputs": []
    },
    {
      "cell_type": "code",
      "metadata": {
        "colab": {
          "base_uri": "https://localhost:8080/"
        },
        "id": "aqpSwe-DcHyy",
        "outputId": "5b12e9d8-1ccd-4e44-aeca-9b928ff5b854"
      },
      "source": [
        "s1 = input(\"첫번째 단어를 입력하세요: \")\n",
        "s2 = input(\"두번쨰 단어를 입력하세요: \")\n",
        "s3 = input(\"두번쨰 단어를 입력하세요: \")\n",
        "print(s1[0] + s2[0] + s3[0])"
      ],
      "execution_count": null,
      "outputs": [
        {
          "output_type": "stream",
          "name": "stdout",
          "text": [
            "첫번째 단어를 입력하세요: Origianl\n",
            "두번쨰 단어를 입력하세요: Sound\n",
            "두번쨰 단어를 입력하세요: Track\n",
            "OST\n"
          ]
        }
      ]
    },
    {
      "cell_type": "code",
      "metadata": {
        "colab": {
          "base_uri": "https://localhost:8080/"
        },
        "id": "XCismoqdjRrI",
        "outputId": "40d3d6a9-82e9-4b76-a21c-11d723d7ac3d"
      },
      "source": [
        "weight = int(input(\"짐의 무게는 얼마 입니까? \") ) \n",
        "if weight>20:\n",
        "    print(\"무거운 짐은 20,000원의 수수료를 내야합니다. 감사합니다.\")\n",
        "else:\n",
        "    print(\"짐에 대한 수수료는 없습니다. 감사합니다.\")"
      ],
      "execution_count": null,
      "outputs": [
        {
          "output_type": "stream",
          "name": "stdout",
          "text": [
            "짐의 무게는 얼마 입니까? 25\n",
            "무거운 짐은 20,000원의 수수료를 내야합니다. 감사합니다.\n"
          ]
        }
      ]
    },
    {
      "cell_type": "code",
      "metadata": {
        "colab": {
          "base_uri": "https://localhost:8080/"
        },
        "id": "CYKiy1RHmNYx",
        "outputId": "3939e94a-a7a5-46e1-c16d-522cb0a0a319"
      },
      "source": [
        "num = int(input(\"숫자하나를 입력하세요: \") ) \n",
        "if  num%2 == 0:\n",
        "  print(\"짝수입니다. \")\n",
        "else:\n",
        "  print(\" 홀수입니다. \")"
      ],
      "execution_count": null,
      "outputs": [
        {
          "output_type": "stream",
          "name": "stdout",
          "text": [
            "숫자하나를 입력하세요: 3\n",
            " 홀수입니다. \n"
          ]
        }
      ]
    },
    {
      "cell_type": "code",
      "metadata": {
        "colab": {
          "base_uri": "https://localhost:8080/"
        },
        "id": "spACLedCwOTj",
        "outputId": "53944e9f-c3db-41f7-f8c8-88ed743c8ff9"
      },
      "source": [
        "kor = 90\n",
        "mat = 80\n",
        "eng = 100\n",
        "sum = kor + mat + eng\n",
        "avg = sum/3\n",
        "print('kor: ' , kor)\n",
        "print('mat: ' , mat)\n",
        "print('eng: ' , eng)\n",
        "print('sum: ' , sum)\n",
        "print('avg: ' , avg)"
      ],
      "execution_count": null,
      "outputs": [
        {
          "output_type": "stream",
          "name": "stdout",
          "text": [
            "kor:  90\n",
            "mat:  80\n",
            "eng:  100\n",
            "sum:  270\n",
            "avg:  90.0\n"
          ]
        }
      ]
    },
    {
      "cell_type": "code",
      "metadata": {
        "colab": {
          "base_uri": "https://localhost:8080/"
        },
        "id": "yvlFxev4nYp0",
        "outputId": "bb9dcff1-88f5-4306-da31-12edc6599dcc"
      },
      "source": [
        "print('T'*10)\n",
        "print('T'*10)\n",
        "print('    TT') \n",
        "print('    TT')  \n",
        "print('    TT')\n"
      ],
      "execution_count": null,
      "outputs": [
        {
          "output_type": "stream",
          "name": "stdout",
          "text": [
            "TTTTTTTTTT\n",
            "TTTTTTTTTT\n",
            "    TT\n",
            "    TT\n",
            "    TT\n"
          ]
        }
      ]
    },
    {
      "cell_type": "code",
      "metadata": {
        "colab": {
          "base_uri": "https://localhost:8080/"
        },
        "id": "2StRdp04peus",
        "outputId": "0ee8171d-460d-4ad1-8851-fe84bb3fbcff"
      },
      "source": [
        "x = 10\n",
        "y = 20\n",
        "z = 30\n",
        "print(x,'+',y,'=',z)"
      ],
      "execution_count": null,
      "outputs": [
        {
          "output_type": "stream",
          "name": "stdout",
          "text": [
            "10 + 20 = 30\n"
          ]
        }
      ]
    },
    {
      "cell_type": "code",
      "metadata": {
        "colab": {
          "base_uri": "https://localhost:8080/"
        },
        "id": "gbk6dpcCqj30",
        "outputId": "896c8c1b-e5fa-4d04-c023-a631aa48e5f8"
      },
      "source": [
        "x = int(input(x))\n",
        "y = int(input(y))\n",
        "z = int(input(z))\n",
        "\n",
        "sum = x + y + z\n",
        "avg = sum/3\n",
        "\n",
        "print('sum= ' , sum)\n",
        "print('avg= ' , avg)"
      ],
      "execution_count": null,
      "outputs": [
        {
          "output_type": "stream",
          "name": "stdout",
          "text": [
            "1020\n",
            "2050\n",
            "30100\n",
            "sum=  170\n",
            "avg=  56.666666666666664\n"
          ]
        }
      ]
    },
    {
      "cell_type": "code",
      "metadata": {
        "colab": {
          "base_uri": "https://localhost:8080/"
        },
        "id": "vQRRMK2msBbW",
        "outputId": "dbcd3b25-10e2-431a-fd2b-d89d4d336544"
      },
      "source": [
        "x = int (input(x))\n",
        "y = int (input(y))\n",
        "\n",
        "a = x > y\n",
        "b = x < y\n",
        "c = x >= y\n",
        "d = x <= y\n",
        "\n",
        "print(a)\n",
        "print(b)\n",
        "print(c)\n",
        "print(d)"
      ],
      "execution_count": null,
      "outputs": [
        {
          "output_type": "stream",
          "name": "stdout",
          "text": [
            "45\n",
            "54\n",
            "True\n",
            "False\n",
            "True\n",
            "False\n"
          ]
        }
      ]
    },
    {
      "cell_type": "code",
      "metadata": {
        "id": "IivLIxV0tcIy"
      },
      "source": [
        ""
      ],
      "execution_count": null,
      "outputs": []
    }
  ]
}